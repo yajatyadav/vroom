{
 "cells": [
  {
   "cell_type": "code",
   "execution_count": 24,
   "id": "fc6f679d",
   "metadata": {},
   "outputs": [],
   "source": [
    "import cv2\n",
    "import os\n",
    "from pathlib import Path\n",
    "\n",
    "def split_video_with_overlap(mp4_path: str, num_chunks: int, output_dir: str = \"FINAL_cl_24_fps_video_chunks\"):\n",
    "    mp4_path = Path(mp4_path)\n",
    "    output_dir = Path(output_dir)\n",
    "    output_dir.mkdir(parents=True, exist_ok=True)\n",
    "\n",
    "    # Load video\n",
    "    cap = cv2.VideoCapture(str(mp4_path))\n",
    "    assert cap.isOpened(), f\"Failed to open video: {mp4_path}\"\n",
    "\n",
    "    fps = int(cap.get(cv2.CAP_PROP_FPS))\n",
    "    width = int(cap.get(cv2.CAP_PROP_FRAME_WIDTH))\n",
    "    height = int(cap.get(cv2.CAP_PROP_FRAME_HEIGHT))\n",
    "\n",
    "    # Read all frames into memory\n",
    "    frames = []\n",
    "    while True:\n",
    "        ret, frame = cap.read()\n",
    "        if not ret:\n",
    "            break\n",
    "        frames.append(frame)\n",
    "    cap.release()\n",
    "\n",
    "    print(f\"Read {len(frames)} frames from video\")\n",
    "    total_frames = len(frames)\n",
    "\n",
    "    print(f\"Loaded {mp4_path.name} with {total_frames} frames at {fps} FPS ({width}x{height})\")\n",
    "    \n",
    "    # Compute chunk size\n",
    "    base_chunk_size = total_frames // num_chunks\n",
    "    extra = total_frames % num_chunks  # to distribute remaining frames if needed\n",
    "\n",
    "    # Split into chunks with overlap\n",
    "    start = 0\n",
    "    for i in range(num_chunks):\n",
    "        # Compute chunk size with optional frame remainder\n",
    "        this_chunk_size = base_chunk_size + (1 if i < extra else 0)\n",
    "\n",
    "        # Add overlap of 1 frame, except for the first chunk\n",
    "        if i > 0:\n",
    "            start -= 1\n",
    "            this_chunk_size += 1\n",
    "\n",
    "        end = start + this_chunk_size\n",
    "        print(\"start (inclusive)=\", start, \"end (inclusive)=\", end - 1, \"this_chunk_size=\", this_chunk_size)\n",
    "        chunk_frames = frames[start:end]\n",
    "\n",
    "        # Output file\n",
    "        out_path = output_dir / f\"{mp4_path.stem}_chunk{i+1}.mp4\"\n",
    "        writer = cv2.VideoWriter(\n",
    "            str(out_path),\n",
    "            cv2.VideoWriter_fourcc(*\"mp4v\"),\n",
    "            fps,\n",
    "            (width, height)\n",
    "        )\n",
    "\n",
    "        for f in chunk_frames:\n",
    "            writer.write(f)\n",
    "        writer.release()\n",
    "        print(f\"Saved chunk {i+1} with {len(chunk_frames)} frames to {out_path}\")\n",
    "        start = end"
   ]
  },
  {
   "cell_type": "code",
   "execution_count": 31,
   "id": "16a3e6dd",
   "metadata": {},
   "outputs": [],
   "source": [
    "import cv2\n",
    "import os\n",
    "from pathlib import Path\n",
    "\n",
    "def split_video_using_timestamps(mp4_path, timestamps, output_dir=\"cl_start_clips\"):\n",
    "    \"\"\"\n",
    "    Splits an MP4 video into clips using OpenCV based on given timestamps.\n",
    "    Each adjacent clip will have a 1-frame overlap.\n",
    "\n",
    "    Args:\n",
    "        mp4_path (str): Path to the input video file.\n",
    "        timestamps (List[float]): List of timestamps in seconds.\n",
    "        output_dir (str): Directory where output clips will be saved.\n",
    "\n",
    "    Returns:\n",
    "        List[str]: Paths to the saved clips.\n",
    "    \"\"\"\n",
    "    cap = cv2.VideoCapture(mp4_path)\n",
    "    fps = cap.get(cv2.CAP_PROP_FPS)\n",
    "    width  = int(cap.get(cv2.CAP_PROP_FRAME_WIDTH))\n",
    "    height = int(cap.get(cv2.CAP_PROP_FRAME_HEIGHT))\n",
    "    fourcc = cv2.VideoWriter_fourcc(*\"mp4v\")\n",
    "\n",
    "    Path(output_dir).mkdir(parents=True, exist_ok=True)\n",
    "    output_paths = []\n",
    "\n",
    "    # Convert timestamps to frame indices\n",
    "    frame_timestamps = [int(round(ts * fps)) for ts in timestamps]\n",
    "\n",
    "    for i in range(len(frame_timestamps) - 1):\n",
    "        start_f = frame_timestamps[i]\n",
    "        end_f = frame_timestamps[i + 1]\n",
    "\n",
    "        if i > 0:\n",
    "            start_f -= 1  # Add 1-frame overlap with previous clip\n",
    "\n",
    "        cap.set(cv2.CAP_PROP_POS_FRAMES, start_f)\n",
    "        out_path = os.path.join(output_dir, f\"clip_{i:03d}.mp4\")\n",
    "        out = cv2.VideoWriter(out_path, fourcc, fps, (width, height))\n",
    "\n",
    "        for f in range(start_f, end_f):\n",
    "            ret, frame = cap.read()\n",
    "            if not ret:\n",
    "                break\n",
    "            out.write(frame)\n",
    "\n",
    "        out.release()\n",
    "        output_paths.append(out_path)\n",
    "\n",
    "    cap.release()\n",
    "    return output_paths"
   ]
  },
  {
   "cell_type": "code",
   "execution_count": null,
   "id": "72a41846",
   "metadata": {},
   "outputs": [],
   "source": [
    "timestamps = [35, 40.5]\n",
    "split_video_using_timestamps(\"cl.mp4\", timestamps)"
   ]
  },
  {
   "cell_type": "code",
   "execution_count": 22,
   "id": "2be86547",
   "metadata": {},
   "outputs": [
    {
     "data": {
      "text/plain": [
       "['cl_hairpin/clip_000.mp4']"
      ]
     },
     "execution_count": 22,
     "metadata": {},
     "output_type": "execute_result"
    }
   ],
   "source": [
    "timestamps = [35, 40.5]\n",
    "split_video_using_timestamps(\"cl.mp4\", timestamps)"
   ]
  },
  {
   "cell_type": "code",
   "execution_count": 33,
   "id": "f4d8a5b4",
   "metadata": {},
   "outputs": [
    {
     "data": {
      "text/plain": [
       "['cl_start_clips/clip_000.mp4',\n",
       " 'cl_start_clips/clip_001.mp4',\n",
       " 'cl_start_clips/clip_002.mp4']"
      ]
     },
     "execution_count": 33,
     "metadata": {},
     "output_type": "execute_result"
    }
   ],
   "source": [
    "timestamps = [0, 7, 13, 18]\n",
    "split_video_using_timestamps(\"cl_top_half_24_fps.mp4\", timestamps)"
   ]
  },
  {
   "cell_type": "code",
   "execution_count": 30,
   "id": "d1a36a3f",
   "metadata": {},
   "outputs": [
    {
     "data": {
      "text/plain": [
       "['cl_end_clips/clip_000.mp4',\n",
       " 'cl_end_clips/clip_001.mp4',\n",
       " 'cl_end_clips/clip_002.mp4',\n",
       " 'cl_end_clips/clip_003.mp4',\n",
       " 'cl_end_clips/clip_004.mp4',\n",
       " 'cl_end_clips/clip_005.mp4',\n",
       " 'cl_end_clips/clip_006.mp4']"
      ]
     },
     "execution_count": 30,
     "metadata": {},
     "output_type": "execute_result"
    }
   ],
   "source": [
    "timestamps = [47, 55, 62, 67, 71, 75,81, 84]\n",
    "split_video_using_timestamps(\"cl_top_half_24_fps.mp4\", timestamps)"
   ]
  },
  {
   "cell_type": "code",
   "execution_count": null,
   "id": "bae03240",
   "metadata": {},
   "outputs": [
    {
     "data": {
      "text/plain": [
       "['cl_24_fps_video_clips_678/clip_000.mp4',\n",
       " 'cl_24_fps_video_clips_678/clip_001.mp4',\n",
       " 'cl_24_fps_video_clips_678/clip_002.mp4']"
      ]
     },
     "execution_count": 18,
     "metadata": {},
     "output_type": "execute_result"
    }
   ],
   "source": [
    "timestamps = [35, 40, 43, 47]\n",
    "split_video_using_timestamps(\"cl_top_half_24_fps.mp4\", timestamps)"
   ]
  },
  {
   "cell_type": "code",
   "execution_count": 12,
   "id": "4fb9ba17",
   "metadata": {},
   "outputs": [
    {
     "data": {
      "text/plain": [
       "['cl_24_fps_video_clips/clip_000.mp4',\n",
       " 'cl_24_fps_video_clips/clip_001.mp4',\n",
       " 'cl_24_fps_video_clips/clip_002.mp4']"
      ]
     },
     "execution_count": 12,
     "metadata": {},
     "output_type": "execute_result"
    }
   ],
   "source": [
    "timestamps = [18, 24, 29, 35]\n",
    "split_video_using_timestamps(\"cl_top_half_24_fps.mp4\", timestamps)"
   ]
  },
  {
   "cell_type": "code",
   "execution_count": 4,
   "id": "775eebf1",
   "metadata": {},
   "outputs": [
    {
     "name": "stdout",
     "output_type": "stream",
     "text": [
      "Read 2016 frames from video\n",
      "Loaded cl_top_half_24_fps.mp4 with 2016 frames at 24 FPS (1280x360)\n",
      "start (inclusive)= 0 end (inclusive)= 125 this_chunk_size= 126\n",
      "Saved chunk 1 with 126 frames to cl_24_fps_video_chunks/cl_top_half_24_fps_chunk1.mp4\n",
      "start (inclusive)= 125 end (inclusive)= 251 this_chunk_size= 127\n",
      "Saved chunk 2 with 127 frames to cl_24_fps_video_chunks/cl_top_half_24_fps_chunk2.mp4\n",
      "start (inclusive)= 251 end (inclusive)= 377 this_chunk_size= 127\n",
      "Saved chunk 3 with 127 frames to cl_24_fps_video_chunks/cl_top_half_24_fps_chunk3.mp4\n",
      "start (inclusive)= 377 end (inclusive)= 503 this_chunk_size= 127\n",
      "Saved chunk 4 with 127 frames to cl_24_fps_video_chunks/cl_top_half_24_fps_chunk4.mp4\n",
      "start (inclusive)= 503 end (inclusive)= 629 this_chunk_size= 127\n",
      "Saved chunk 5 with 127 frames to cl_24_fps_video_chunks/cl_top_half_24_fps_chunk5.mp4\n",
      "start (inclusive)= 629 end (inclusive)= 755 this_chunk_size= 127\n",
      "Saved chunk 6 with 127 frames to cl_24_fps_video_chunks/cl_top_half_24_fps_chunk6.mp4\n",
      "start (inclusive)= 755 end (inclusive)= 881 this_chunk_size= 127\n",
      "Saved chunk 7 with 127 frames to cl_24_fps_video_chunks/cl_top_half_24_fps_chunk7.mp4\n",
      "start (inclusive)= 881 end (inclusive)= 1007 this_chunk_size= 127\n",
      "Saved chunk 8 with 127 frames to cl_24_fps_video_chunks/cl_top_half_24_fps_chunk8.mp4\n",
      "start (inclusive)= 1007 end (inclusive)= 1133 this_chunk_size= 127\n",
      "Saved chunk 9 with 127 frames to cl_24_fps_video_chunks/cl_top_half_24_fps_chunk9.mp4\n",
      "start (inclusive)= 1133 end (inclusive)= 1259 this_chunk_size= 127\n",
      "Saved chunk 10 with 127 frames to cl_24_fps_video_chunks/cl_top_half_24_fps_chunk10.mp4\n",
      "start (inclusive)= 1259 end (inclusive)= 1385 this_chunk_size= 127\n",
      "Saved chunk 11 with 127 frames to cl_24_fps_video_chunks/cl_top_half_24_fps_chunk11.mp4\n",
      "start (inclusive)= 1385 end (inclusive)= 1511 this_chunk_size= 127\n",
      "Saved chunk 12 with 127 frames to cl_24_fps_video_chunks/cl_top_half_24_fps_chunk12.mp4\n",
      "start (inclusive)= 1511 end (inclusive)= 1637 this_chunk_size= 127\n",
      "Saved chunk 13 with 127 frames to cl_24_fps_video_chunks/cl_top_half_24_fps_chunk13.mp4\n",
      "start (inclusive)= 1637 end (inclusive)= 1763 this_chunk_size= 127\n",
      "Saved chunk 14 with 127 frames to cl_24_fps_video_chunks/cl_top_half_24_fps_chunk14.mp4\n",
      "start (inclusive)= 1763 end (inclusive)= 1889 this_chunk_size= 127\n",
      "Saved chunk 15 with 127 frames to cl_24_fps_video_chunks/cl_top_half_24_fps_chunk15.mp4\n",
      "start (inclusive)= 1889 end (inclusive)= 2015 this_chunk_size= 127\n",
      "Saved chunk 16 with 127 frames to cl_24_fps_video_chunks/cl_top_half_24_fps_chunk16.mp4\n"
     ]
    }
   ],
   "source": [
    "split_video_with_overlap(\"cl_top_half_24_fps.mp4\", 16)"
   ]
  },
  {
   "cell_type": "code",
   "execution_count": 6,
   "id": "952c688e",
   "metadata": {},
   "outputs": [],
   "source": [
    "#!/usr/bin/env python3\n",
    "\"\"\"\n",
    "crop_top_percent.py\n",
    "\n",
    "Usage:\n",
    "    python crop_top_percent.py input.mp4 output.mp4 --percent 20\n",
    "\n",
    "Crops each frame of input.mp4 to its top N% and writes it to output.mp4.\n",
    "\"\"\"\n",
    "\n",
    "import argparse\n",
    "import cv2\n",
    "import sys\n",
    "\n",
    "def crop_top_percent(input_path: str, output_path: str, percent: float) -> None:\n",
    "    # Open the source video\n",
    "    cap = cv2.VideoCapture(input_path)\n",
    "    if not cap.isOpened():\n",
    "        print(f\"Error: could not open '{input_path}'\", file=sys.stderr)\n",
    "        sys.exit(1)\n",
    "\n",
    "    # Get source properties\n",
    "    width  = int(cap.get(cv2.CAP_PROP_FRAME_WIDTH))\n",
    "    height = int(cap.get(cv2.CAP_PROP_FRAME_HEIGHT))\n",
    "    fps    = cap.get(cv2.CAP_PROP_FPS)\n",
    "    fourcc = cv2.VideoWriter_fourcc(*'mp4v')\n",
    "\n",
    "    # Compute crop height\n",
    "    if not (0 < percent <= 100):\n",
    "        print(\"Error: --percent must be >0 and ≤100\", file=sys.stderr)\n",
    "        cap.release()\n",
    "        sys.exit(1)\n",
    "    crop_h = int(height * (percent / 100.0))\n",
    "    new_size = (width, crop_h)\n",
    "\n",
    "    # Prepare the writer at new size\n",
    "    out = cv2.VideoWriter(output_path, fourcc, fps, new_size)\n",
    "    if not out.isOpened():\n",
    "        print(f\"Error: could not create '{output_path}'\", file=sys.stderr)\n",
    "        cap.release()\n",
    "        sys.exit(1)\n",
    "\n",
    "    # Process frame by frame\n",
    "    while True:\n",
    "        ret, frame = cap.read()\n",
    "        if not ret:\n",
    "            break\n",
    "\n",
    "        # Crop top percent: rows 0 .. crop_h, all columns\n",
    "        top_slice = frame[0:crop_h, 0:width]\n",
    "        out.write(top_slice)\n",
    "\n",
    "    # Clean up\n",
    "    cap.release()\n",
    "    out.release()\n",
    "    print(f\"✅ Cropped top {percent:.1f}% saved to '{output_path}' \"\n",
    "          f\"({width}×{crop_h} @ {fps:.2f} fps)\")\n"
   ]
  },
  {
   "cell_type": "code",
   "execution_count": null,
   "id": "a6ac2935",
   "metadata": {},
   "outputs": [
    {
     "name": "stdout",
     "output_type": "stream",
     "text": [
      "✅ Cropped top 30.0% saved to '/Users/yajatyadav/Downloads/cl_top_30.mp4' (1280×216 @ 50.00 fps)\n"
     ]
    }
   ],
   "source": [
    "crop_top_percent(\"/Users/yajatyadav/Downloads/cl.mp4\", \"/Users/yajatyadav/Downloads/cl_top_30.mp4\", 30)\n",
    "crop_top_percent(\"/Users/yajatyadav/Downloads/cl_top_half_6_fps.mp4\", \"/Users/yajatyadav/Downloads/cl_top_half_6_fps.mp4\", 50)"
   ]
  },
  {
   "cell_type": "code",
   "execution_count": 9,
   "id": "43d8c08a",
   "metadata": {},
   "outputs": [
    {
     "name": "stderr",
     "output_type": "stream",
     "text": [
      "ffmpeg version 7.1.1 Copyright (c) 2000-2025 the FFmpeg developers\n",
      "  built with Apple clang version 16.0.0 (clang-1600.0.26.6)\n",
      "  configuration: --prefix=/opt/homebrew/Cellar/ffmpeg/7.1.1_1 --enable-shared --enable-pthreads --enable-version3 --cc=clang --host-cflags= --host-ldflags='-Wl,-ld_classic' --enable-ffplay --enable-gnutls --enable-gpl --enable-libaom --enable-libaribb24 --enable-libbluray --enable-libdav1d --enable-libharfbuzz --enable-libjxl --enable-libmp3lame --enable-libopus --enable-librav1e --enable-librist --enable-librubberband --enable-libsnappy --enable-libsrt --enable-libssh --enable-libsvtav1 --enable-libtesseract --enable-libtheora --enable-libvidstab --enable-libvmaf --enable-libvorbis --enable-libvpx --enable-libwebp --enable-libx264 --enable-libx265 --enable-libxml2 --enable-libxvid --enable-lzma --enable-libfontconfig --enable-libfreetype --enable-frei0r --enable-libass --enable-libopencore-amrnb --enable-libopencore-amrwb --enable-libopenjpeg --enable-libspeex --enable-libsoxr --enable-libzmq --enable-libzimg --disable-libjack --disable-indev=jack --enable-videotoolbox --enable-audiotoolbox --enable-neon\n",
      "  libavutil      59. 39.100 / 59. 39.100\n",
      "  libavcodec     61. 19.101 / 61. 19.101\n",
      "  libavformat    61.  7.100 / 61.  7.100\n",
      "  libavdevice    61.  3.100 / 61.  3.100\n",
      "  libavfilter    10.  4.100 / 10.  4.100\n",
      "  libswscale      8.  3.100 /  8.  3.100\n",
      "  libswresample   5.  3.100 /  5.  3.100\n",
      "  libpostproc    58.  3.100 / 58.  3.100\n",
      "Input #0, mov,mp4,m4a,3gp,3g2,mj2, from '/Users/yajatyadav/Downloads/cl_top_half.mp4':\n",
      "  Metadata:\n",
      "    major_brand     : isom\n",
      "    minor_version   : 512\n",
      "    compatible_brands: isomiso2mp41\n",
      "    encoder         : Lavf61.7.100\n",
      "  Duration: 00:01:24.02, start: 0.000000, bitrate: 9725 kb/s\n",
      "  Stream #0:0[0x1](und): Video: mpeg4 (Simple Profile) (mp4v / 0x7634706D), yuv420p, 1280x360 [SAR 1:1 DAR 32:9], 9723 kb/s, 50 fps, 50 tbr, 12800 tbn (default)\n",
      "      Metadata:\n",
      "        handler_name    : VideoHandler\n",
      "        vendor_id       : [0][0][0][0]\n",
      "Stream mapping:\n",
      "  Stream #0:0 -> #0:0 (mpeg4 (native) -> h264 (libx264))\n",
      "Press [q] to stop, [?] for help\n",
      "[libx264 @ 0x1477300a0] using SAR=1/1\n",
      "[libx264 @ 0x1477300a0] using cpu capabilities: ARMv8 NEON\n",
      "[libx264 @ 0x1477300a0] profile High, level 3.1, 4:2:0, 8-bit\n",
      "[libx264 @ 0x1477300a0] 264 - core 164 r3108 31e19f9 - H.264/MPEG-4 AVC codec - Copyleft 2003-2023 - http://www.videolan.org/x264.html - options: cabac=1 ref=3 deblock=1:0:0 analyse=0x3:0x113 me=hex subme=7 psy=1 psy_rd=1.00:0.00 mixed_ref=1 me_range=16 chroma_me=1 trellis=1 8x8dct=1 cqm=0 deadzone=21,11 fast_pskip=1 chroma_qp_offset=-2 threads=11 lookahead_threads=1 sliced_threads=0 nr=0 decimate=1 interlaced=0 bluray_compat=0 constrained_intra=0 bframes=3 b_pyramid=2 b_adapt=1 b_bias=0 direct=1 weightb=1 open_gop=0 weightp=2 keyint=250 keyint_min=6 scenecut=40 intra_refresh=0 rc_lookahead=40 rc=crf mbtree=1 crf=23.0 qcomp=0.60 qpmin=0 qpmax=69 qpstep=4 ip_ratio=1.40 aq=1:1.00\n",
      "Output #0, mp4, to '/Users/yajatyadav/Downloads/cl_top_half_6_fps.mp4':\n",
      "  Metadata:\n",
      "    major_brand     : isom\n",
      "    minor_version   : 512\n",
      "    compatible_brands: isomiso2mp41\n",
      "    encoder         : Lavf61.7.100\n",
      "  Stream #0:0(und): Video: h264 (avc1 / 0x31637661), yuv420p(tv, progressive), 1280x360 [SAR 1:1 DAR 32:9], q=2-31, 6 fps, 12288 tbn (default)\n",
      "      Metadata:\n",
      "        handler_name    : VideoHandler\n",
      "        vendor_id       : [0][0][0][0]\n",
      "        encoder         : Lavc61.19.101 libx264\n",
      "      Side data:\n",
      "        cpb: bitrate max/min/avg: 0/0/0 buffer size: 0 vbv_delay: N/A\n",
      "frame=  446 fps=127 q=23.0 size=   12544KiB time=00:01:14.00 bitrate=1388.7kbits/s dup=0 drop=3696 speed=21.1x    \r"
     ]
    },
    {
     "name": "stdout",
     "output_type": "stream",
     "text": [
      "✅ Saved reduced-FPS video to: /Users/yajatyadav/Downloads/cl_top_half_6_fps.mp4\n"
     ]
    },
    {
     "name": "stderr",
     "output_type": "stream",
     "text": [
      "[out#0/mp4 @ 0x148008f60] video:14110KiB audio:0KiB subtitle:0KiB other streams:0KiB global headers:0KiB muxing overhead: 0.045464%\n",
      "frame=  506 fps=131 q=-1.0 Lsize=   14117KiB time=00:01:24.00 bitrate=1376.7kbits/s dup=0 drop=3696 speed=21.7x    \n",
      "[libx264 @ 0x1477300a0] frame I:18    Avg QP:17.95  size: 41330\n",
      "[libx264 @ 0x1477300a0] frame P:199   Avg QP:20.82  size: 29532\n",
      "[libx264 @ 0x1477300a0] frame B:289   Avg QP:21.33  size: 27084\n",
      "[libx264 @ 0x1477300a0] consecutive B-frames: 16.8% 13.4% 23.1% 46.6%\n",
      "[libx264 @ 0x1477300a0] mb I  I16..4: 12.2% 68.2% 19.6%\n",
      "[libx264 @ 0x1477300a0] mb P  I16..4: 11.7% 60.6% 13.8%  P16..4:  6.8%  5.1%  1.7%  0.0%  0.0%    skip: 0.3%\n",
      "[libx264 @ 0x1477300a0] mb B  I16..4:  8.0% 33.7% 10.2%  B16..8: 19.3% 17.7%  4.2%  direct: 5.3%  skip: 1.4%  L0:50.0% L1:32.9% BI:17.1%\n",
      "[libx264 @ 0x1477300a0] 8x8 transform intra:67.8% inter:68.5%\n",
      "[libx264 @ 0x1477300a0] coded y,uvDC,uvAC intra: 70.0% 70.2% 25.2% inter: 65.7% 68.1% 4.8%\n",
      "[libx264 @ 0x1477300a0] i16 v,h,dc,p: 31% 35% 23% 11%\n",
      "[libx264 @ 0x1477300a0] i8 v,h,dc,ddl,ddr,vr,hd,vl,hu: 22% 31% 21%  3%  3%  3%  6%  3%  8%\n",
      "[libx264 @ 0x1477300a0] i4 v,h,dc,ddl,ddr,vr,hd,vl,hu: 24% 31% 12%  4%  5%  5%  7%  4%  7%\n",
      "[libx264 @ 0x1477300a0] i8c dc,h,v,p: 46% 30% 18%  5%\n",
      "[libx264 @ 0x1477300a0] Weighted P-Frames: Y:8.5% UV:5.0%\n",
      "[libx264 @ 0x1477300a0] ref P L0: 60.4% 18.3% 13.4%  7.3%  0.7%\n",
      "[libx264 @ 0x1477300a0] ref B L0: 86.6% 10.6%  2.8%\n",
      "[libx264 @ 0x1477300a0] ref B L1: 96.2%  3.8%\n",
      "[libx264 @ 0x1477300a0] kb/s:1370.58\n"
     ]
    }
   ],
   "source": [
    "# Notebook cell: reduce a video's FPS to 6 and save to a new file\n",
    "import subprocess\n",
    "from pathlib import Path\n",
    "\n",
    "def reduce_fps(input_path: str, output_path: str = None, fps: int = 6) -> Path:\n",
    "    \"\"\"\n",
    "    Reduces the frame rate of an input video to `fps` and writes out a new file.\n",
    "    \n",
    "    Args:\n",
    "        input_path: Path to the source .mp4 file.\n",
    "        output_path: Optional path for the converted file. \n",
    "                     If None, appends '_{fps}fps' to the input filename.\n",
    "        fps:        Target frames per second (default: 6).\n",
    "    \n",
    "    Returns:\n",
    "        The pathlib.Path of the written output file.\n",
    "    \"\"\"\n",
    "    input_path = Path(input_path)\n",
    "    if output_path is None:\n",
    "        output_path = input_path.with_name(f\"{input_path.stem}_{fps}fps{input_path.suffix}\")\n",
    "    else:\n",
    "        output_path = Path(output_path)\n",
    "    \n",
    "    cmd = [\n",
    "        \"ffmpeg\", \"-y\",            # overwrite without asking\n",
    "        \"-i\", str(input_path),     # input file\n",
    "        \"-r\", str(fps),            # set output FPS\n",
    "        str(output_path)           # output file\n",
    "    ]\n",
    "    subprocess.run(cmd, check=True)\n",
    "    return output_path\n",
    "\n",
    "# Example usage:\n",
    "input_mp4  = \"/Users/yajatyadav/Downloads/cl_top_half.mp4\"         # ← replace with your file\n",
    "output_mp4 = \"/Users/yajatyadav/Downloads/cl_top_half_6_fps.mp4\"\n",
    "output_mp4 = reduce_fps(input_mp4, output_mp4, fps=6)\n",
    "print(f\"✅ Saved reduced-FPS video to: {output_mp4}\")"
   ]
  },
  {
   "cell_type": "code",
   "execution_count": null,
   "id": "0ad762f2",
   "metadata": {},
   "outputs": [],
   "source": []
  }
 ],
 "metadata": {
  "kernelspec": {
   "display_name": "base",
   "language": "python",
   "name": "python3"
  },
  "language_info": {
   "codemirror_mode": {
    "name": "ipython",
    "version": 3
   },
   "file_extension": ".py",
   "mimetype": "text/x-python",
   "name": "python",
   "nbconvert_exporter": "python",
   "pygments_lexer": "ipython3",
   "version": "3.11.7"
  }
 },
 "nbformat": 4,
 "nbformat_minor": 5
}
